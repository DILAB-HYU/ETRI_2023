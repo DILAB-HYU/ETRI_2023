{
 "cells": [
  {
   "cell_type": "code",
   "execution_count": null,
   "metadata": {},
   "outputs": [],
   "source": [
    "import numpy as np\n",
    "import os\n",
    "from augmentation import aug"
   ]
  },
  {
   "cell_type": "code",
   "execution_count": null,
   "metadata": {},
   "outputs": [],
   "source": [
    "path_dir = '../data/timewise_data' # data directory (timewise data에 대해 augmentation)\n",
    "output_dir = '../data/augmentation' # output directory of augmented file\n",
    "\n",
    "if not os.path.exists(output_dir):\n",
    "    os.makedirs(output_dir)"
   ]
  },
  {
   "cell_type": "code",
   "execution_count": null,
   "metadata": {},
   "outputs": [],
   "source": [
    "print(len(os.listdir(path_dir)))"
   ]
  },
  {
   "attachments": {},
   "cell_type": "markdown",
   "metadata": {},
   "source": [
    "### Care_housmem label에 대한 augmentation 예시"
   ]
  },
  {
   "cell_type": "code",
   "execution_count": null,
   "metadata": {},
   "outputs": [],
   "source": [
    "n = 1 # numbers to augment for each data.\n",
    "\n",
    "data_dic = {'label' : ['sleep', 'personal_care', 'work', 'study', 'household', 'care_housemem', 'recreation_media', 'entertainment', 'outdoor_act', 'hobby', 'recreation_etc', 'shop', 'communitiy_interaction', 'travel', 'meal', 'socialising']}\n",
    "\n",
    "# carehousemem\n",
    "label_care_housemem = []\n",
    "for filename in os.listdir(path_dir):\n",
    "    file = np.load(os.path.join(path_dir,filename))\n",
    "    label = file['label_action']\n",
    "    \n",
    "    if label == 5:\n",
    "        label_care_housemem.append(filename)\n",
    "\n",
    "if not os.path.exists(os.path.join(output_dir, 'care_housemem')):\n",
    "    os.makedirs(os.path.join(output_dir, 'care_housemem'))\n",
    "\n",
    "print(label_care_housemem)\n",
    "\n",
    "for i in range(n):\n",
    "    for file in label_care_housemem:\n",
    "        data = np.load(os.path.join(path_dir, file))\n",
    "\n",
    "        np.savez(os.path.join(output_dir,'care_housemem', file+'_aug_'+str(i+1)),\n",
    "        ts = data['ts'],e4Acc_x= aug(data['e4Acc_x']) , e4Acc_y= aug(data['e4Acc_y']), e4Acc_z= aug(data['e4Acc_z']), e4Bvp=aug(data['e4Bvp']), e4Eda=aug(data['e4Eda']), e4Hr=aug(data['e4Hr']), e4Temp=aug(data['e4Temp']), \n",
    "                    mAcc_x=aug(data['mAcc_x']), mAcc_y=aug(data['mAcc_y']), mAcc_z=aug(data['mAcc_z']), mGps_lat=data['mGps_lat'], mGps_lon=data['mGps_lon'], mGps_acc=data['mGps_acc'], mGyr_x=aug(data['mGyr_x']), mGyr_y=aug(data['mGyr_y']), mGyr_z=aug(data['mGyr_z']),\n",
    "                    mGyr_roll=aug(data['mGyr_roll']), mGyr_pitch=aug(data['mGyr_pitch']), mGyr_yaw=aug(data['mGyr_yaw']), mMag_x=aug(data['mMag_x']), mMag_y=aug(data['mMag_y']), mMag_z=aug(data['mMag_z']), label_action=data['label_action'], label_actionOption=data['label_actionOption'])"
   ]
  },
  {
   "attachments": {},
   "cell_type": "markdown",
   "metadata": {},
   "source": [
    "### outdoor_act label에 대한 augmentation 예시"
   ]
  },
  {
   "cell_type": "code",
   "execution_count": null,
   "metadata": {},
   "outputs": [],
   "source": [
    "n = 1 # numbers to augment for each data.\n",
    "data_dic = {'label' : ['sleep', 'personal_care', 'work', 'study', 'household', 'care_housemem', 'recreation_media', 'entertainment', 'outdoor_act', 'hobby', 'recreation_etc', 'shop', 'communitiy_interaction', 'travel', 'meal', 'socialising']}\n",
    "\n",
    "# carehousemem\n",
    "label_outdooract = []\n",
    "for filename in os.listdir(path_dir):\n",
    "    file = np.load(os.path.join(path_dir,filename))\n",
    "    label = file['label_action']\n",
    "    \n",
    "    if label == 8:\n",
    "        label_outdooract.append(filename)\n",
    "\n",
    "if not os.path.exists(os.path.join(output_dir, 'outdoor_act')):\n",
    "    os.makedirs(os.path.join(output_dir, 'outdoor_act'))\n",
    "\n",
    "print(label_outdooract)\n",
    "\n",
    "for i in range(n):\n",
    "    for file in label_outdooract:\n",
    "        data = np.load(os.path.join(path_dir, file))\n",
    "\n",
    "        np.savez(os.path.join(output_dir,'outdoor_act', file+'_aug_'+str(i+1)),\n",
    "        ts = data['ts'],e4Acc_x= aug(data['e4Acc_x']) , e4Acc_y= aug(data['e4Acc_y']), e4Acc_z= aug(data['e4Acc_z']), e4Bvp=aug(data['e4Bvp']), e4Eda=aug(data['e4Eda']), e4Hr=aug(data['e4Hr']), e4Temp=aug(data['e4Temp']), \n",
    "                    mAcc_x=aug(data['mAcc_x']), mAcc_y=aug(data['mAcc_y']), mAcc_z=aug(data['mAcc_z']), mGps_lat=data['mGps_lat'], mGps_lon=data['mGps_lon'], mGps_acc=data['mGps_acc'], mGyr_x=aug(data['mGyr_x']), mGyr_y=aug(data['mGyr_y']), mGyr_z=aug(data['mGyr_z']),\n",
    "                    mGyr_roll=aug(data['mGyr_roll']), mGyr_pitch=aug(data['mGyr_pitch']), mGyr_yaw=aug(data['mGyr_yaw']), mMag_x=aug(data['mMag_x']), mMag_y=aug(data['mMag_y']), mMag_z=aug(data['mMag_z']), label_action=data['label_action'], label_actionOption=data['label_actionOption'])"
   ]
  }
 ],
 "metadata": {
  "language_info": {
   "name": "python"
  },
  "orig_nbformat": 4
 },
 "nbformat": 4,
 "nbformat_minor": 2
}
